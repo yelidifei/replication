{
 "cells": [
  {
   "cell_type": "code",
   "execution_count": null,
   "id": "c1edf83e-91bd-4081-a0af-e4793c309395",
   "metadata": {},
   "outputs": [],
   "source": [
    "library(coxed)\n",
    "library(dplyr)\n",
    "library(zoo)"
   ]
  },
  {
   "cell_type": "markdown",
   "id": "d1c7ec00-73ca-458e-b9c4-8ff8f1e64c6c",
   "metadata": {},
   "source": [
    "# Simulated Data Documentation\n",
    "\n",
    "## Section 1: Simulated Survival Data\n",
    "\n",
    "The simulated data represents observed deaths (in years) for 50,000 beneficiaries. In this simulation, **censoring** refers to a beneficiary's death within the observed period, and the event is recorded accordingly.\n",
    "\n",
    "- **Age Distribution**: Age is generated according to the proportion from the Medicare Chartpack (see: [KFF Chartpack](https://files.kff.org/attachment/chartpack-profile-of-medicare-beneficiaries-by-race-and-ethnicity-a-chartpack)).\n",
    "  \n",
    "- **Date Simulation**: Dates are randomly assigned within the observation period defined in the paper. \n",
    "  \n",
    "- **Survival Data Generation**: Survival data is simulated using the `sim.survdata()` function in R, which creates survival times.\n",
    "\n",
    "Finally, individual characteristics are merged with the survival data to produce the final simulated survival dataset.\n",
    "\n",
    "---\n",
    "\n",
    "## Section 2: Simulated Person-Level Data (unused)\n",
    "\n",
    "To generate variables such as medical cost and hospitalization rates, we assume the data follows a **log-normal distribution**, using the mean and standard deviation values provided in the original paper.\n",
    "\n",
    "- **Why Log-Normal Distribution**: Log-normal distribution is suitable for expenditure data (e.g., medical costs), as it typically exhibits non-negative, right-skewed properties. This distribution captures the long-tail nature of spending data while ensuring all values remain positive. Moreover, the mean and standard deviation from the paper are directly applied in estimating the distribution parameters.\n",
    "\n",
    "- **County and Date Assignment**: Randomly generated `county_fips` and `date` variables are merged with the expenditure and hospitalization data to form the simulated person-level dataset.\n",
    "\n",
    "---\n",
    "\n",
    "## Section 3: Simulated County-Level Data\n",
    "\n",
    "Similarly to the person-level data, we generate county-level statistics for different age groups using a **log-normal distribution** to simulate mortality rates (measured as three-day deaths per million people) for each age category.\n",
    "\n",
    "- **County and Date Assignment**: County-level variables, including `county_fips` and `date`, are also randomly generated and combined with the mortality data to create the final simulated county-level dataset.\n",
    "\n",
    "---\n",
    "\n",
    "\n"
   ]
  },
  {
   "cell_type": "markdown",
   "id": "f2af057a-d65c-4980-ab7a-f90f9b2c79dd",
   "metadata": {},
   "source": [
    "### Section 1: Simulated Survival Data"
   ]
  },
  {
   "cell_type": "code",
   "execution_count": 125,
   "id": "bc16a98a-f94a-46d3-94cb-1affa1d6584d",
   "metadata": {},
   "outputs": [],
   "source": [
    "set.seed(18)\n",
    "N <- 50000\n",
    "\n",
    "sex <- sample(c(1, 2), size = N, replace = T, prob = c(0.5, 0.5))\n",
    "\n",
    "age_ranges <- list(\n",
    "  \"65_74\"  = c(65, 74),\n",
    "  \"75_84\"  = c(75, 84),\n",
    "  \"85_100\" = c(85, 100)\n",
    ")\n",
    "age_proportions <- c(0.47, 0.39, 0.14)\n",
    "\n",
    "# A function to generate age\n",
    "generate_age <- function(n) {\n",
    "  age_group <- sample(names(age_ranges), size = n, replace = TRUE, prob = age_proportions)\n",
    "  ages <- sapply(age_group, function(group) {\n",
    "    range <- age_ranges[[group]]\n",
    "    sample(seq(range[1], range[2]), 1)\n",
    "  })\n",
    "  return(ages)\n",
    "}\n",
    "\n",
    "age <- generate_age(N)\n",
    "\n",
    "X <- model.matrix(~ sex + age)[,-1]"
   ]
  },
  {
   "cell_type": "code",
   "execution_count": 127,
   "id": "ddf0c001-b4bc-43d2-82fa-b949b22b5661",
   "metadata": {},
   "outputs": [],
   "source": [
    "set.seed(18)\n",
    "\n",
    "# generate date\n",
    "date_seq <- seq.Date(from = as.Date(\"1999-01-01\"), to = as.Date(\"2013-12-31\"), by = \"day\")\n",
    "random_dates <- sample(date_seq, 50000, replace = TRUE)\n",
    "\n",
    "formatted_dates <- format(random_dates, \"%d%b%Y\")"
   ]
  },
  {
   "cell_type": "code",
   "execution_count": 108,
   "id": "8bd1b8f4-8c7f-4bc5-a7b0-ae708e1aeb6e",
   "metadata": {},
   "outputs": [
    {
     "data": {
      "text/html": [
       "<table class=\"dataframe\">\n",
       "<caption>A data.frame: 6 × 5</caption>\n",
       "<thead>\n",
       "\t<tr><th></th><th scope=col>X1</th><th scope=col>X2</th><th scope=col>X3</th><th scope=col>y</th><th scope=col>failed</th></tr>\n",
       "\t<tr><th></th><th scope=col>&lt;dbl&gt;</th><th scope=col>&lt;dbl&gt;</th><th scope=col>&lt;dbl&gt;</th><th scope=col>&lt;int&gt;</th><th scope=col>&lt;lgl&gt;</th></tr>\n",
       "</thead>\n",
       "<tbody>\n",
       "\t<tr><th scope=row>1</th><td>-0.6511109</td><td> 0.18957668</td><td>-0.433474723</td><td> 1</td><td>FALSE</td></tr>\n",
       "\t<tr><th scope=row>2</th><td> 0.5542456</td><td>-0.85994691</td><td>-0.390969889</td><td>11</td><td> TRUE</td></tr>\n",
       "\t<tr><th scope=row>3</th><td>-0.3860684</td><td> 0.32240384</td><td>-0.004033863</td><td>12</td><td>FALSE</td></tr>\n",
       "\t<tr><th scope=row>4</th><td>-0.3385851</td><td> 0.07285019</td><td>-0.257748541</td><td> 1</td><td> TRUE</td></tr>\n",
       "\t<tr><th scope=row>5</th><td> 0.2321536</td><td> 0.62101825</td><td>-0.093331085</td><td> 6</td><td> TRUE</td></tr>\n",
       "\t<tr><th scope=row>6</th><td>-0.9751594</td><td> 0.24620931</td><td> 0.144139996</td><td>14</td><td> TRUE</td></tr>\n",
       "</tbody>\n",
       "</table>\n"
      ],
      "text/latex": [
       "A data.frame: 6 × 5\n",
       "\\begin{tabular}{r|lllll}\n",
       "  & X1 & X2 & X3 & y & failed\\\\\n",
       "  & <dbl> & <dbl> & <dbl> & <int> & <lgl>\\\\\n",
       "\\hline\n",
       "\t1 & -0.6511109 &  0.18957668 & -0.433474723 &  1 & FALSE\\\\\n",
       "\t2 &  0.5542456 & -0.85994691 & -0.390969889 & 11 &  TRUE\\\\\n",
       "\t3 & -0.3860684 &  0.32240384 & -0.004033863 & 12 & FALSE\\\\\n",
       "\t4 & -0.3385851 &  0.07285019 & -0.257748541 &  1 &  TRUE\\\\\n",
       "\t5 &  0.2321536 &  0.62101825 & -0.093331085 &  6 &  TRUE\\\\\n",
       "\t6 & -0.9751594 &  0.24620931 &  0.144139996 & 14 &  TRUE\\\\\n",
       "\\end{tabular}\n"
      ],
      "text/markdown": [
       "\n",
       "A data.frame: 6 × 5\n",
       "\n",
       "| <!--/--> | X1 &lt;dbl&gt; | X2 &lt;dbl&gt; | X3 &lt;dbl&gt; | y &lt;int&gt; | failed &lt;lgl&gt; |\n",
       "|---|---|---|---|---|---|\n",
       "| 1 | -0.6511109 |  0.18957668 | -0.433474723 |  1 | FALSE |\n",
       "| 2 |  0.5542456 | -0.85994691 | -0.390969889 | 11 |  TRUE |\n",
       "| 3 | -0.3860684 |  0.32240384 | -0.004033863 | 12 | FALSE |\n",
       "| 4 | -0.3385851 |  0.07285019 | -0.257748541 |  1 |  TRUE |\n",
       "| 5 |  0.2321536 |  0.62101825 | -0.093331085 |  6 |  TRUE |\n",
       "| 6 | -0.9751594 |  0.24620931 |  0.144139996 | 14 |  TRUE |\n",
       "\n"
      ],
      "text/plain": [
       "  X1         X2          X3           y  failed\n",
       "1 -0.6511109  0.18957668 -0.433474723  1 FALSE \n",
       "2  0.5542456 -0.85994691 -0.390969889 11  TRUE \n",
       "3 -0.3860684  0.32240384 -0.004033863 12 FALSE \n",
       "4 -0.3385851  0.07285019 -0.257748541  1  TRUE \n",
       "5  0.2321536  0.62101825 -0.093331085  6  TRUE \n",
       "6 -0.9751594  0.24620931  0.144139996 14  TRUE "
      ]
     },
     "metadata": {},
     "output_type": "display_data"
    }
   ],
   "source": [
    "set.seed(18)\n",
    "simdata <- sim.survdata(N=50000, T=15)\n",
    "head(simdata$data)"
   ]
  },
  {
   "cell_type": "code",
   "execution_count": 5,
   "id": "35a82c9c-dfa3-4d05-9014-5695313ccab3",
   "metadata": {},
   "outputs": [
    {
     "data": {
      "text/plain": [
       "TableGrob (2 x 1) \"arrange\": 2 grobs\n",
       "  z     cells    name           grob\n",
       "1 1 (1-1,1-1) arrange gtable[layout]\n",
       "2 2 (2-2,1-1) arrange gtable[layout]"
      ]
     },
     "metadata": {},
     "output_type": "display_data"
    },
    {
     "data": {
      "image/png": "[encoded data removed]",
      "text/plain": [
       "plot without title"
      ]
     },
     "metadata": {
      "image/png": {
       "height": 420,
       "width": 420
      }
     },
     "output_type": "display_data"
    }
   ],
   "source": [
    "survsim.plot(simdata, df=1, type=\"both\")"
   ]
  },
  {
   "cell_type": "code",
   "execution_count": 122,
   "id": "b602a623-e937-4d59-9195-461e5c0d26ca",
   "metadata": {},
   "outputs": [
    {
     "data": {
      "text/html": [
       "<table class=\"dataframe\">\n",
       "<caption>A data.frame: 6 × 8</caption>\n",
       "<thead>\n",
       "\t<tr><th></th><th scope=col>county_fips</th><th scope=col>Age</th><th scope=col>Sex</th><th scope=col>Date</th><th scope=col>mbsf_year</th><th scope=col>time_to_event</th><th scope=col>event</th><th scope=col>ffs2yr</th></tr>\n",
       "\t<tr><th></th><th scope=col>&lt;int&gt;</th><th scope=col>&lt;int&gt;</th><th scope=col>&lt;dbl&gt;</th><th scope=col>&lt;chr&gt;</th><th scope=col>&lt;chr&gt;</th><th scope=col>&lt;int&gt;</th><th scope=col>&lt;lgl&gt;</th><th scope=col>&lt;dbl&gt;</th></tr>\n",
       "</thead>\n",
       "<tbody>\n",
       "\t<tr><th scope=row>1</th><td>18035</td><td>75</td><td>1</td><td>30Jan2012</td><td>2012</td><td> 1</td><td>FALSE</td><td>1</td></tr>\n",
       "\t<tr><th scope=row>2</th><td>49019</td><td>80</td><td>1</td><td>07Feb2013</td><td>2013</td><td>11</td><td> TRUE</td><td>1</td></tr>\n",
       "\t<tr><th scope=row>3</th><td>51139</td><td>76</td><td>1</td><td>16Aug2008</td><td>2008</td><td>12</td><td>FALSE</td><td>1</td></tr>\n",
       "\t<tr><th scope=row>4</th><td>39081</td><td>82</td><td>2</td><td>14Jun2012</td><td>2012</td><td> 1</td><td> TRUE</td><td>1</td></tr>\n",
       "\t<tr><th scope=row>5</th><td>27115</td><td>80</td><td>2</td><td>17Apr2001</td><td>2001</td><td> 6</td><td> TRUE</td><td>1</td></tr>\n",
       "\t<tr><th scope=row>6</th><td>23029</td><td>87</td><td>1</td><td>11Nov2000</td><td>2000</td><td>14</td><td> TRUE</td><td>1</td></tr>\n",
       "</tbody>\n",
       "</table>\n"
      ],
      "text/latex": [
       "A data.frame: 6 × 8\n",
       "\\begin{tabular}{r|llllllll}\n",
       "  & county\\_fips & Age & Sex & Date & mbsf\\_year & time\\_to\\_event & event & ffs2yr\\\\\n",
       "  & <int> & <int> & <dbl> & <chr> & <chr> & <int> & <lgl> & <dbl>\\\\\n",
       "\\hline\n",
       "\t1 & 18035 & 75 & 1 & 30Jan2012 & 2012 &  1 & FALSE & 1\\\\\n",
       "\t2 & 49019 & 80 & 1 & 07Feb2013 & 2013 & 11 &  TRUE & 1\\\\\n",
       "\t3 & 51139 & 76 & 1 & 16Aug2008 & 2008 & 12 & FALSE & 1\\\\\n",
       "\t4 & 39081 & 82 & 2 & 14Jun2012 & 2012 &  1 &  TRUE & 1\\\\\n",
       "\t5 & 27115 & 80 & 2 & 17Apr2001 & 2001 &  6 &  TRUE & 1\\\\\n",
       "\t6 & 23029 & 87 & 1 & 11Nov2000 & 2000 & 14 &  TRUE & 1\\\\\n",
       "\\end{tabular}\n"
      ],
      "text/markdown": [
       "\n",
       "A data.frame: 6 × 8\n",
       "\n",
       "| <!--/--> | county_fips &lt;int&gt; | Age &lt;int&gt; | Sex &lt;dbl&gt; | Date &lt;chr&gt; | mbsf_year &lt;chr&gt; | time_to_event &lt;int&gt; | event &lt;lgl&gt; | ffs2yr &lt;dbl&gt; |\n",
       "|---|---|---|---|---|---|---|---|---|\n",
       "| 1 | 18035 | 75 | 1 | 30Jan2012 | 2012 |  1 | FALSE | 1 |\n",
       "| 2 | 49019 | 80 | 1 | 07Feb2013 | 2013 | 11 |  TRUE | 1 |\n",
       "| 3 | 51139 | 76 | 1 | 16Aug2008 | 2008 | 12 | FALSE | 1 |\n",
       "| 4 | 39081 | 82 | 2 | 14Jun2012 | 2012 |  1 |  TRUE | 1 |\n",
       "| 5 | 27115 | 80 | 2 | 17Apr2001 | 2001 |  6 |  TRUE | 1 |\n",
       "| 6 | 23029 | 87 | 1 | 11Nov2000 | 2000 | 14 |  TRUE | 1 |\n",
       "\n"
      ],
      "text/plain": [
       "  county_fips Age Sex Date      mbsf_year time_to_event event ffs2yr\n",
       "1 18035       75  1   30Jan2012 2012       1            FALSE 1     \n",
       "2 49019       80  1   07Feb2013 2013      11             TRUE 1     \n",
       "3 51139       76  1   16Aug2008 2008      12            FALSE 1     \n",
       "4 39081       82  2   14Jun2012 2012       1             TRUE 1     \n",
       "5 27115       80  2   17Apr2001 2001       6             TRUE 1     \n",
       "6 23029       87  1   11Nov2000 2000      14             TRUE 1     "
      ]
     },
     "metadata": {},
     "output_type": "display_data"
    }
   ],
   "source": [
    "# gen survival data\n",
    "\n",
    "#randomly generate county_fips\n",
    "unique_counties <- read.csv(\"unique_county_fip.csv\")\n",
    "random_county_fips <- sample(unique_counties$county_list, 50000, replace = TRUE)\n",
    "# merge the data\n",
    "survival_simulate_data <- data.frame(\n",
    "  county_fips = random_county_fips,\n",
    "  Age = age,\n",
    "  Sex = sex,\n",
    "  Date = formatted_dates,\n",
    "  mbsf_year = substr(formatted_dates, nchar(formatted_dates) - 3, nchar(formatted_dates)),\n",
    "  time_to_event = simdata$data$y,\n",
    "  event = simdata$data$failed, #event happen:true ; censor:false\n",
    "  ffs2yr = 1\n",
    ")\n",
    "\n",
    "head(survival_simulate_data)"
   ]
  },
  {
   "cell_type": "markdown",
   "id": "32f96185-8768-4884-9777-0f1125d57684",
   "metadata": {},
   "source": [
    "### Section 2: Simulated Person-Level Data"
   ]
  },
  {
   "cell_type": "code",
   "execution_count": 6,
   "id": "6fb06d81-25f2-482f-be98-018b8a5875d5",
   "metadata": {},
   "outputs": [
    {
     "data": {
      "text/plain": [
       "    Min.  1st Qu.   Median     Mean  3rd Qu.     Max. \n",
       "   22.33   112.24   236.70   445.11   491.28 42108.27 "
      ]
     },
     "metadata": {},
     "output_type": "display_data"
    },
    {
     "data": {
      "text/plain": [
       "    Min.  1st Qu.   Median     Mean  3rd Qu.     Max. \n",
       "   7.099   41.803   87.294  172.033  179.827 9922.863 "
      ]
     },
     "metadata": {},
     "output_type": "display_data"
    },
    {
     "data": {
      "text/plain": [
       "person_admission_event\n",
       "       0        1 \n",
       "33680500    28508 "
      ]
     },
     "metadata": {},
     "output_type": "display_data"
    },
    {
     "data": {
      "text/plain": [
       "person_er_admission_event\n",
       "       0        1 \n",
       "33691490    17518 "
      ]
     },
     "metadata": {},
     "output_type": "display_data"
    },
    {
     "data": {
      "text/plain": [
       "person_er_visit_event\n",
       "       0        1 \n",
       "33671286    37722 "
      ]
     },
     "metadata": {},
     "output_type": "display_data"
    }
   ],
   "source": [
    "set.seed(18)\n",
    "\n",
    "# set parameters\n",
    "n_counties <- 1302  # the number of counties given by the paper\n",
    "mean_population <- 26901\n",
    "sd_population <- 39335\n",
    "\n",
    "# generate the population of each county\n",
    "meanlog <- log((mean_population^2) / sqrt(sd_population^2 + mean_population^2))\n",
    "sdlog <- sqrt(log(1 + (sd_population^2) / (mean_population^2)))\n",
    "county_population <- rlnorm(n_counties, meanlog = meanlog, sdlog = sdlog)\n",
    "# generate the 3days county data\n",
    "mean_spending_3day <- 34598644\n",
    "sd_spending_3day <- 15236367\n",
    "mean_er_spending_3day <- 13793534\n",
    "sd_er_spending_3day <- 7831989\n",
    "mean_admission_rate_3day <- 3270\n",
    "sd_admission_rate_3day <- 1207\n",
    "mean_er_admission_rate_3day <- 1547\n",
    "sd_er_admission_rate_3day <- 707\n",
    "mean_er_visit_rate_3day <- 4185\n",
    "sd_er_visit_rate_3day <- 1206\n",
    "\n",
    "# calculate the parameters used in the log-normal\n",
    "mu_log_spending <- log(mean_spending_3day^2 / sqrt(sd_spending_3day^2 + mean_spending_3day^2))\n",
    "sigma_log_spending <- sqrt(log(1 + (sd_spending_3day^2 / mean_spending_3day^2)))\n",
    "# use log-normal to generate the data\n",
    "county_spending_3day <- rlnorm(n_counties, meanlog = mu_log_spending, sdlog = sigma_log_spending)\n",
    "\n",
    "#*********\n",
    "# 3 days ER spending data\n",
    "mu_log_er_spending <- log(mean_er_spending_3day^2 / sqrt(sd_er_spending_3day^2 + mean_er_spending_3day^2))\n",
    "sigma_log_er_spending <- sqrt(log(1 + (sd_er_spending_3day^2 / mean_er_spending_3day^2)))\n",
    "county_er_spending_3day <- rlnorm(n_counties, meanlog = mu_log_er_spending, sdlog = sigma_log_er_spending)\n",
    "\n",
    "#*********\n",
    "# turn to the probility on person\n",
    "county_admission_prob <- pmax(rnorm(n_counties, mean = mean_admission_rate_3day, sd = sd_admission_rate_3day) / 1e6, 0)\n",
    "county_er_admission_prob <- pmax(rnorm(n_counties, mean = mean_er_admission_rate_3day, sd = sd_er_admission_rate_3day) / 1e6, 0)\n",
    "county_er_visit_prob <- pmax(rnorm(n_counties, mean = mean_er_visit_rate_3day, sd = sd_er_visit_rate_3day) / 1e6, 0)\n",
    "# ensure visit_prob and admission_prob is larger than er_admission_prob\n",
    "min_required_admission_prob <- county_er_admission_prob + 1e-6\n",
    "min_required_visit_prob <- county_er_admission_prob + 1e-6\n",
    "\n",
    "county_admission_prob <- ifelse(county_admission_prob < min_required_admission_prob, \n",
    "                                 min_required_admission_prob, \n",
    "                                 county_admission_prob)\n",
    "\n",
    "county_er_visit_prob <- ifelse(county_er_visit_prob < min_required_visit_prob, \n",
    "                                min_required_visit_prob, \n",
    "                                county_er_visit_prob)\n",
    "# Assign to individual level:1 for hospitalization, 0 for non-hospitalization\n",
    "# Person ER admission\n",
    "person_er_admission_event <- unlist(lapply(1:n_counties, function(i) {\n",
    "  rbinom(county_population[i], size = 1, prob = county_er_admission_prob[i] / 3)  # 每日的概率\n",
    "}))\n",
    "\n",
    "# Person admission\n",
    "person_admission_event <- unlist(lapply(1:n_counties, function(i) {\n",
    "  sapply(1:county_population[i], function(j) {\n",
    "    if (person_er_admission_event[j] == 1) {\n",
    "      1  # 该个体急诊入院，入院事件为1\n",
    "    } else {\n",
    "      rbinom(1, size = 1, prob = (county_admission_prob[i] - county_er_admission_prob[i]) / 3)\n",
    "    }\n",
    "  })\n",
    "}))\n",
    "\n",
    "\n",
    "# Person ER visit\n",
    "person_er_visit_event <- unlist(lapply(1:n_counties, function(i) {\n",
    "  sapply(1:county_population[i], function(j) {\n",
    "    if (person_er_admission_event[j] == 1) {\n",
    "      1  # 该个体急诊入院，急诊就诊事件为1\n",
    "    } else {\n",
    "      rbinom(1, size = 1, prob = (county_er_visit_prob[i] - county_er_admission_prob[i]) / 3)\n",
    "    }\n",
    "  })\n",
    "}))\n",
    "\n",
    "# use the county population to calculate the person-day data\n",
    "county_spending_1day <- county_spending_3day / 3\n",
    "county_er_spending_1day <- county_er_spending_3day / 3\n",
    "\n",
    "person_spending_1day <- unlist(lapply(1:n_counties, function(i) {\n",
    "  rep(county_spending_1day[i] / county_population[i], county_population[i])\n",
    "}))\n",
    "\n",
    "person_er_spending_1day <- unlist(lapply(1:n_counties, function(i) {\n",
    "  rep(county_er_spending_1day[i] / county_population[i], county_population[i])\n",
    "}))\n",
    "\n",
    "# check the results\n",
    "summary(person_spending_1day)\n",
    "summary(person_er_spending_1day)\n",
    "table(person_admission_event)\n",
    "table(person_er_admission_event)\n",
    "table(person_er_visit_event)"
   ]
  },
  {
   "cell_type": "code",
   "execution_count": 26,
   "id": "f77b954d-8854-4ee8-86cf-29ed78b3e1bd",
   "metadata": {},
   "outputs": [
    {
     "data": {
      "text/html": [
       "<table class=\"dataframe\">\n",
       "<caption>A data.frame: 6 × 11</caption>\n",
       "<thead>\n",
       "\t<tr><th></th><th scope=col>county_fips</th><th scope=col>Age</th><th scope=col>Sex</th><th scope=col>Date</th><th scope=col>totamt_any</th><th scope=col>totamt_er</th><th scope=col>admission_event</th><th scope=col>ER_admission_event</th><th scope=col>ER_visit_event</th><th scope=col>time_to_event</th><th scope=col>event</th></tr>\n",
       "\t<tr><th></th><th scope=col>&lt;int&gt;</th><th scope=col>&lt;int&gt;</th><th scope=col>&lt;dbl&gt;</th><th scope=col>&lt;chr&gt;</th><th scope=col>&lt;dbl&gt;</th><th scope=col>&lt;dbl&gt;</th><th scope=col>&lt;dbl&gt;</th><th scope=col>&lt;int&gt;</th><th scope=col>&lt;dbl&gt;</th><th scope=col>&lt;int&gt;</th><th scope=col>&lt;lgl&gt;</th></tr>\n",
       "</thead>\n",
       "<tbody>\n",
       "\t<tr><th scope=row>1</th><td>32033</td><td>69</td><td>1</td><td>30Jan2012</td><td> 243.3579</td><td> 84.823296</td><td>0</td><td>0</td><td>0</td><td> 1</td><td>FALSE</td></tr>\n",
       "\t<tr><th scope=row>2</th><td>47107</td><td>71</td><td>1</td><td>07Feb2013</td><td> 778.5528</td><td>365.933906</td><td>0</td><td>0</td><td>0</td><td>10</td><td> TRUE</td></tr>\n",
       "\t<tr><th scope=row>3</th><td>37173</td><td>81</td><td>1</td><td>16Aug2008</td><td>1165.9524</td><td>210.668511</td><td>0</td><td>0</td><td>0</td><td> 9</td><td> TRUE</td></tr>\n",
       "\t<tr><th scope=row>4</th><td>38105</td><td>73</td><td>2</td><td>14Jun2012</td><td> 571.7920</td><td> 13.128478</td><td>0</td><td>0</td><td>0</td><td> 1</td><td> TRUE</td></tr>\n",
       "\t<tr><th scope=row>5</th><td>32031</td><td>84</td><td>2</td><td>17Apr2001</td><td> 278.9991</td><td>109.059459</td><td>0</td><td>0</td><td>0</td><td> 5</td><td>FALSE</td></tr>\n",
       "\t<tr><th scope=row>6</th><td>51197</td><td>68</td><td>1</td><td>11Nov2000</td><td> 108.0365</td><td>  9.560399</td><td>0</td><td>0</td><td>0</td><td> 5</td><td> TRUE</td></tr>\n",
       "</tbody>\n",
       "</table>\n"
      ],
      "text/latex": [
       "A data.frame: 6 × 11\n",
       "\\begin{tabular}{r|lllllllllll}\n",
       "  & county\\_fips & Age & Sex & Date & totamt\\_any & totamt\\_er & admission\\_event & ER\\_admission\\_event & ER\\_visit\\_event & time\\_to\\_event & event\\\\\n",
       "  & <int> & <int> & <dbl> & <chr> & <dbl> & <dbl> & <dbl> & <int> & <dbl> & <int> & <lgl>\\\\\n",
       "\\hline\n",
       "\t1 & 32033 & 69 & 1 & 30Jan2012 &  243.3579 &  84.823296 & 0 & 0 & 0 &  1 & FALSE\\\\\n",
       "\t2 & 47107 & 71 & 1 & 07Feb2013 &  778.5528 & 365.933906 & 0 & 0 & 0 & 10 &  TRUE\\\\\n",
       "\t3 & 37173 & 81 & 1 & 16Aug2008 & 1165.9524 & 210.668511 & 0 & 0 & 0 &  9 &  TRUE\\\\\n",
       "\t4 & 38105 & 73 & 2 & 14Jun2012 &  571.7920 &  13.128478 & 0 & 0 & 0 &  1 &  TRUE\\\\\n",
       "\t5 & 32031 & 84 & 2 & 17Apr2001 &  278.9991 & 109.059459 & 0 & 0 & 0 &  5 & FALSE\\\\\n",
       "\t6 & 51197 & 68 & 1 & 11Nov2000 &  108.0365 &   9.560399 & 0 & 0 & 0 &  5 &  TRUE\\\\\n",
       "\\end{tabular}\n"
      ],
      "text/markdown": [
       "\n",
       "A data.frame: 6 × 11\n",
       "\n",
       "| <!--/--> | county_fips &lt;int&gt; | Age &lt;int&gt; | Sex &lt;dbl&gt; | Date &lt;chr&gt; | totamt_any &lt;dbl&gt; | totamt_er &lt;dbl&gt; | admission_event &lt;dbl&gt; | ER_admission_event &lt;int&gt; | ER_visit_event &lt;dbl&gt; | time_to_event &lt;int&gt; | event &lt;lgl&gt; |\n",
       "|---|---|---|---|---|---|---|---|---|---|---|---|\n",
       "| 1 | 32033 | 69 | 1 | 30Jan2012 |  243.3579 |  84.823296 | 0 | 0 | 0 |  1 | FALSE |\n",
       "| 2 | 47107 | 71 | 1 | 07Feb2013 |  778.5528 | 365.933906 | 0 | 0 | 0 | 10 |  TRUE |\n",
       "| 3 | 37173 | 81 | 1 | 16Aug2008 | 1165.9524 | 210.668511 | 0 | 0 | 0 |  9 |  TRUE |\n",
       "| 4 | 38105 | 73 | 2 | 14Jun2012 |  571.7920 |  13.128478 | 0 | 0 | 0 |  1 |  TRUE |\n",
       "| 5 | 32031 | 84 | 2 | 17Apr2001 |  278.9991 | 109.059459 | 0 | 0 | 0 |  5 | FALSE |\n",
       "| 6 | 51197 | 68 | 1 | 11Nov2000 |  108.0365 |   9.560399 | 0 | 0 | 0 |  5 |  TRUE |\n",
       "\n"
      ],
      "text/plain": [
       "  county_fips Age Sex Date      totamt_any totamt_er  admission_event\n",
       "1 32033       69  1   30Jan2012  243.3579   84.823296 0              \n",
       "2 47107       71  1   07Feb2013  778.5528  365.933906 0              \n",
       "3 37173       81  1   16Aug2008 1165.9524  210.668511 0              \n",
       "4 38105       73  2   14Jun2012  571.7920   13.128478 0              \n",
       "5 32031       84  2   17Apr2001  278.9991  109.059459 0              \n",
       "6 51197       68  1   11Nov2000  108.0365    9.560399 0              \n",
       "  ER_admission_event ER_visit_event time_to_event event\n",
       "1 0                  0               1            FALSE\n",
       "2 0                  0              10             TRUE\n",
       "3 0                  0               9             TRUE\n",
       "4 0                  0               1             TRUE\n",
       "5 0                  0               5            FALSE\n",
       "6 0                  0               5             TRUE"
      ]
     },
     "metadata": {},
     "output_type": "display_data"
    },
    {
     "data": {
      "text/plain": [
       "\n",
       "   0    1 \n",
       "2998    2 "
      ]
     },
     "metadata": {},
     "output_type": "display_data"
    }
   ],
   "source": [
    "set.seed(18)  \n",
    "\n",
    "#ransomly generate county_fips\n",
    "unique_counties <- read.csv(\"unique_county_fip.csv\")\n",
    "random_county_fips <- sample(unique_counties$county_list, 3000, replace = TRUE)\n",
    "\n",
    "sample_person_spending <- sample(person_spending_1day, 3000, replace = TRUE)\n",
    "sample_person_er_spending <- sample(person_er_spending_1day, 3000, replace = TRUE)\n",
    "sample_person_admission <- sample(person_admission_event, 3000, replace = TRUE)\n",
    "sample_person_er_admission <- sample(person_er_admission_event, 3000, replace = TRUE)\n",
    "sample_person_er_visit <- sample(person_er_visit_event, 3000, replace = TRUE)\n",
    "\n",
    "person_simulate_data <- data.frame(\n",
    "  county_fips = random_county_fips,\n",
    "  Age = age,\n",
    "  Sex = sex,\n",
    "  Date = formatted_dates,\n",
    "  totamt_any = sample_person_spending, # inpatient spending, planned and ER\n",
    "  totamt_er = sample_person_er_spending, # inpatient ER spending\n",
    "  admission_event = sample_person_admission,\n",
    "  ER_admission_event = sample_person_er_admission,\n",
    "  ER_visit_event = sample_person_er_visit,\n",
    "  time_to_event = simdata$data$y,\n",
    "  event = simdata$data$failed #event happen:true ; censor:false,4\n",
    ")\n",
    "\n",
    "head(person_simulate_data)"
   ]
  },
  {
   "cell_type": "markdown",
   "id": "eb6e883b-476a-48f7-b0e2-daad7759e0af",
   "metadata": {},
   "source": [
    "### Section 3: Simulated County-Level Data"
   ]
  },
  {
   "cell_type": "code",
   "execution_count": 106,
   "id": "676afd12-ca81-4078-a028-a2a04ddebdd7",
   "metadata": {
    "scrolled": true
   },
   "outputs": [
    {
     "data": {
      "text/html": [
       "<table class=\"dataframe\">\n",
       "<caption>A data.frame: 6 × 20</caption>\n",
       "<thead>\n",
       "\t<tr><th></th><th scope=col>county_fips</th><th scope=col>Date</th><th scope=col>totamt_any_3day</th><th scope=col>totamt_er_3day</th><th scope=col>admit_any_3day</th><th scope=col>admit_er_3day</th><th scope=col>all_er_3day</th><th scope=col>mort_3day_100</th><th scope=col>mort_3day_65</th><th scope=col>mort_3day_70</th><th scope=col>mort_3day_75</th><th scope=col>mort_3day_80</th><th scope=col>mort_3day_85</th><th scope=col>numbenes3_100</th><th scope=col>numbenes3_65</th><th scope=col>numbenes3_70</th><th scope=col>numbenes3_75</th><th scope=col>numbenes3_80</th><th scope=col>numbenes3_85</th><th scope=col>hosp_denom</th></tr>\n",
       "\t<tr><th></th><th scope=col>&lt;int&gt;</th><th scope=col>&lt;chr&gt;</th><th scope=col>&lt;dbl&gt;</th><th scope=col>&lt;dbl&gt;</th><th scope=col>&lt;dbl&gt;</th><th scope=col>&lt;dbl&gt;</th><th scope=col>&lt;dbl&gt;</th><th scope=col>&lt;dbl&gt;</th><th scope=col>&lt;dbl&gt;</th><th scope=col>&lt;dbl&gt;</th><th scope=col>&lt;dbl&gt;</th><th scope=col>&lt;dbl&gt;</th><th scope=col>&lt;dbl&gt;</th><th scope=col>&lt;dbl&gt;</th><th scope=col>&lt;dbl&gt;</th><th scope=col>&lt;dbl&gt;</th><th scope=col>&lt;dbl&gt;</th><th scope=col>&lt;dbl&gt;</th><th scope=col>&lt;dbl&gt;</th><th scope=col>&lt;dbl&gt;</th></tr>\n",
       "</thead>\n",
       "<tbody>\n",
       "\t<tr><th scope=row>1</th><td>32033</td><td>06Nov2002</td><td>26155246</td><td>20754543</td><td>6428.016</td><td>1343.8068</td><td>5707.709</td><td>308.1248</td><td>278.563437</td><td>256.18880</td><td>  42.94745</td><td>1113.26059</td><td>1246.2658</td><td>104033.13</td><td>160543.968</td><td>13397.5713</td><td> 2131.352</td><td> 1931.107</td><td>2525.066</td><td> 4000.528</td></tr>\n",
       "\t<tr><th scope=row>2</th><td>47107</td><td>09Dec2010</td><td>21671254</td><td>24063484</td><td>2081.956</td><td>2023.6680</td><td>5038.477</td><td>501.9261</td><td>113.173343</td><td> 22.49953</td><td>  37.40322</td><td>  57.19656</td><td> 733.8271</td><td> 43837.66</td><td>  8478.319</td><td> 2096.6593</td><td> 3687.162</td><td> 6226.843</td><td>2118.190</td><td>10250.305</td></tr>\n",
       "\t<tr><th scope=row>3</th><td>37173</td><td>31Dec2004</td><td>42591606</td><td>15307722</td><td>6720.976</td><td> 742.6134</td><td>4633.614</td><td>248.1606</td><td>  6.311832</td><td> 28.34911</td><td> 159.61417</td><td> 169.97788</td><td> 951.0129</td><td>287910.70</td><td>  5518.611</td><td>11800.7052</td><td> 6918.435</td><td> 1724.187</td><td>6794.942</td><td>51702.394</td></tr>\n",
       "\t<tr><th scope=row>4</th><td>38105</td><td>25Dec2012</td><td>22650498</td><td>17140481</td><td>2013.597</td><td> 962.8970</td><td>2840.197</td><td>169.2352</td><td> 37.415654</td><td>108.39215</td><td>2173.03029</td><td> 205.18090</td><td> 458.9444</td><td> 79037.96</td><td> 11694.212</td><td> 2357.1932</td><td>17821.541</td><td> 3400.070</td><td>2136.881</td><td>18272.317</td></tr>\n",
       "\t<tr><th scope=row>5</th><td>32031</td><td>26Apr1999</td><td>45396774</td><td> 8559522</td><td>3000.296</td><td>1815.7436</td><td>4481.831</td><td>134.1252</td><td> 19.302115</td><td> 14.24617</td><td> 238.33694</td><td> 371.40945</td><td> 293.5613</td><td> 21292.60</td><td> 48168.629</td><td> 2497.9533</td><td> 2173.179</td><td> 1629.583</td><td>8327.971</td><td>81800.618</td></tr>\n",
       "\t<tr><th scope=row>6</th><td>51197</td><td>11Nov2005</td><td>25747679</td><td>29485772</td><td>2460.315</td><td>   0.0000</td><td>3542.584</td><td>128.3938</td><td> 64.971260</td><td> 50.13332</td><td>  62.95865</td><td> 813.12780</td><td> 884.8010</td><td> 20615.05</td><td> 26050.722</td><td>  160.3363</td><td>12297.640</td><td>10286.112</td><td>1536.519</td><td>26944.941</td></tr>\n",
       "</tbody>\n",
       "</table>\n"
      ],
      "text/latex": [
       "A data.frame: 6 × 20\n",
       "\\begin{tabular}{r|llllllllllllllllllll}\n",
       "  & county\\_fips & Date & totamt\\_any\\_3day & totamt\\_er\\_3day & admit\\_any\\_3day & admit\\_er\\_3day & all\\_er\\_3day & mort\\_3day\\_100 & mort\\_3day\\_65 & mort\\_3day\\_70 & mort\\_3day\\_75 & mort\\_3day\\_80 & mort\\_3day\\_85 & numbenes3\\_100 & numbenes3\\_65 & numbenes3\\_70 & numbenes3\\_75 & numbenes3\\_80 & numbenes3\\_85 & hosp\\_denom\\\\\n",
       "  & <int> & <chr> & <dbl> & <dbl> & <dbl> & <dbl> & <dbl> & <dbl> & <dbl> & <dbl> & <dbl> & <dbl> & <dbl> & <dbl> & <dbl> & <dbl> & <dbl> & <dbl> & <dbl> & <dbl>\\\\\n",
       "\\hline\n",
       "\t1 & 32033 & 06Nov2002 & 26155246 & 20754543 & 6428.016 & 1343.8068 & 5707.709 & 308.1248 & 278.563437 & 256.18880 &   42.94745 & 1113.26059 & 1246.2658 & 104033.13 & 160543.968 & 13397.5713 &  2131.352 &  1931.107 & 2525.066 &  4000.528\\\\\n",
       "\t2 & 47107 & 09Dec2010 & 21671254 & 24063484 & 2081.956 & 2023.6680 & 5038.477 & 501.9261 & 113.173343 &  22.49953 &   37.40322 &   57.19656 &  733.8271 &  43837.66 &   8478.319 &  2096.6593 &  3687.162 &  6226.843 & 2118.190 & 10250.305\\\\\n",
       "\t3 & 37173 & 31Dec2004 & 42591606 & 15307722 & 6720.976 &  742.6134 & 4633.614 & 248.1606 &   6.311832 &  28.34911 &  159.61417 &  169.97788 &  951.0129 & 287910.70 &   5518.611 & 11800.7052 &  6918.435 &  1724.187 & 6794.942 & 51702.394\\\\\n",
       "\t4 & 38105 & 25Dec2012 & 22650498 & 17140481 & 2013.597 &  962.8970 & 2840.197 & 169.2352 &  37.415654 & 108.39215 & 2173.03029 &  205.18090 &  458.9444 &  79037.96 &  11694.212 &  2357.1932 & 17821.541 &  3400.070 & 2136.881 & 18272.317\\\\\n",
       "\t5 & 32031 & 26Apr1999 & 45396774 &  8559522 & 3000.296 & 1815.7436 & 4481.831 & 134.1252 &  19.302115 &  14.24617 &  238.33694 &  371.40945 &  293.5613 &  21292.60 &  48168.629 &  2497.9533 &  2173.179 &  1629.583 & 8327.971 & 81800.618\\\\\n",
       "\t6 & 51197 & 11Nov2005 & 25747679 & 29485772 & 2460.315 &    0.0000 & 3542.584 & 128.3938 &  64.971260 &  50.13332 &   62.95865 &  813.12780 &  884.8010 &  20615.05 &  26050.722 &   160.3363 & 12297.640 & 10286.112 & 1536.519 & 26944.941\\\\\n",
       "\\end{tabular}\n"
      ],
      "text/markdown": [
       "\n",
       "A data.frame: 6 × 20\n",
       "\n",
       "| <!--/--> | county_fips &lt;int&gt; | Date &lt;chr&gt; | totamt_any_3day &lt;dbl&gt; | totamt_er_3day &lt;dbl&gt; | admit_any_3day &lt;dbl&gt; | admit_er_3day &lt;dbl&gt; | all_er_3day &lt;dbl&gt; | mort_3day_100 &lt;dbl&gt; | mort_3day_65 &lt;dbl&gt; | mort_3day_70 &lt;dbl&gt; | mort_3day_75 &lt;dbl&gt; | mort_3day_80 &lt;dbl&gt; | mort_3day_85 &lt;dbl&gt; | numbenes3_100 &lt;dbl&gt; | numbenes3_65 &lt;dbl&gt; | numbenes3_70 &lt;dbl&gt; | numbenes3_75 &lt;dbl&gt; | numbenes3_80 &lt;dbl&gt; | numbenes3_85 &lt;dbl&gt; | hosp_denom &lt;dbl&gt; |\n",
       "|---|---|---|---|---|---|---|---|---|---|---|---|---|---|---|---|---|---|---|---|---|\n",
       "| 1 | 32033 | 06Nov2002 | 26155246 | 20754543 | 6428.016 | 1343.8068 | 5707.709 | 308.1248 | 278.563437 | 256.18880 |   42.94745 | 1113.26059 | 1246.2658 | 104033.13 | 160543.968 | 13397.5713 |  2131.352 |  1931.107 | 2525.066 |  4000.528 |\n",
       "| 2 | 47107 | 09Dec2010 | 21671254 | 24063484 | 2081.956 | 2023.6680 | 5038.477 | 501.9261 | 113.173343 |  22.49953 |   37.40322 |   57.19656 |  733.8271 |  43837.66 |   8478.319 |  2096.6593 |  3687.162 |  6226.843 | 2118.190 | 10250.305 |\n",
       "| 3 | 37173 | 31Dec2004 | 42591606 | 15307722 | 6720.976 |  742.6134 | 4633.614 | 248.1606 |   6.311832 |  28.34911 |  159.61417 |  169.97788 |  951.0129 | 287910.70 |   5518.611 | 11800.7052 |  6918.435 |  1724.187 | 6794.942 | 51702.394 |\n",
       "| 4 | 38105 | 25Dec2012 | 22650498 | 17140481 | 2013.597 |  962.8970 | 2840.197 | 169.2352 |  37.415654 | 108.39215 | 2173.03029 |  205.18090 |  458.9444 |  79037.96 |  11694.212 |  2357.1932 | 17821.541 |  3400.070 | 2136.881 | 18272.317 |\n",
       "| 5 | 32031 | 26Apr1999 | 45396774 |  8559522 | 3000.296 | 1815.7436 | 4481.831 | 134.1252 |  19.302115 |  14.24617 |  238.33694 |  371.40945 |  293.5613 |  21292.60 |  48168.629 |  2497.9533 |  2173.179 |  1629.583 | 8327.971 | 81800.618 |\n",
       "| 6 | 51197 | 11Nov2005 | 25747679 | 29485772 | 2460.315 |    0.0000 | 3542.584 | 128.3938 |  64.971260 |  50.13332 |   62.95865 |  813.12780 |  884.8010 |  20615.05 |  26050.722 |   160.3363 | 12297.640 | 10286.112 | 1536.519 | 26944.941 |\n",
       "\n"
      ],
      "text/plain": [
       "  county_fips Date      totamt_any_3day totamt_er_3day admit_any_3day\n",
       "1 32033       06Nov2002 26155246        20754543       6428.016      \n",
       "2 47107       09Dec2010 21671254        24063484       2081.956      \n",
       "3 37173       31Dec2004 42591606        15307722       6720.976      \n",
       "4 38105       25Dec2012 22650498        17140481       2013.597      \n",
       "5 32031       26Apr1999 45396774         8559522       3000.296      \n",
       "6 51197       11Nov2005 25747679        29485772       2460.315      \n",
       "  admit_er_3day all_er_3day mort_3day_100 mort_3day_65 mort_3day_70\n",
       "1 1343.8068     5707.709    308.1248      278.563437   256.18880   \n",
       "2 2023.6680     5038.477    501.9261      113.173343    22.49953   \n",
       "3  742.6134     4633.614    248.1606        6.311832    28.34911   \n",
       "4  962.8970     2840.197    169.2352       37.415654   108.39215   \n",
       "5 1815.7436     4481.831    134.1252       19.302115    14.24617   \n",
       "6    0.0000     3542.584    128.3938       64.971260    50.13332   \n",
       "  mort_3day_75 mort_3day_80 mort_3day_85 numbenes3_100 numbenes3_65\n",
       "1   42.94745   1113.26059   1246.2658    104033.13     160543.968  \n",
       "2   37.40322     57.19656    733.8271     43837.66       8478.319  \n",
       "3  159.61417    169.97788    951.0129    287910.70       5518.611  \n",
       "4 2173.03029    205.18090    458.9444     79037.96      11694.212  \n",
       "5  238.33694    371.40945    293.5613     21292.60      48168.629  \n",
       "6   62.95865    813.12780    884.8010     20615.05      26050.722  \n",
       "  numbenes3_70 numbenes3_75 numbenes3_80 numbenes3_85 hosp_denom\n",
       "1 13397.5713    2131.352     1931.107    2525.066      4000.528 \n",
       "2  2096.6593    3687.162     6226.843    2118.190     10250.305 \n",
       "3 11800.7052    6918.435     1724.187    6794.942     51702.394 \n",
       "4  2357.1932   17821.541     3400.070    2136.881     18272.317 \n",
       "5  2497.9533    2173.179     1629.583    8327.971     81800.618 \n",
       "6   160.3363   12297.640    10286.112    1536.519     26944.941 "
      ]
     },
     "metadata": {},
     "output_type": "display_data"
    }
   ],
   "source": [
    "set.seed(18)\n",
    "\n",
    "random_county_fips2 <- sample(unique_county_fips, 50000, replace = TRUE)\n",
    "random_dates2 <- sample(date_seq, 50000, replace = TRUE)\n",
    "formatted_dates2 <- format(random_dates2, \"%d%b%Y\")\n",
    "# set parameters\n",
    "n_ct_obsevations <- 50000  \n",
    "mean_population <- 26901\n",
    "sd_population <- 39335\n",
    "\n",
    "meanlog <- log((mean_population^2) / sqrt(sd_population^2 + mean_population^2))\n",
    "sdlog <- sqrt(log(1 + (sd_population^2) / (mean_population^2)))\n",
    "county_population <- rlnorm(n_ct_obsevations, meanlog = meanlog, sdlog = sdlog)\n",
    "\n",
    "# generate the data (meanlog and sdlog has calculated in the previous part)\n",
    "county_spending_3day <- rlnorm(n_ct_obsevations, meanlog = mu_log_spending, sdlog = sigma_log_spending)\n",
    "county_er_spending_3day <- rlnorm(n_ct_obsevations, meanlog = mu_log_er_spending, sdlog = sigma_log_er_spending)\n",
    "\n",
    "#********\n",
    "# genrate mortality（three-day deaths per million people）\n",
    "mortality_rate_means <- c(388.25, 135.37, 201.83, 320.70, 526.38, 1168.68)\n",
    "mortality_rate_sds <- c(247.60, 264.38, 369.19, 487.38, 787.33, 1118.87)\n",
    "age_groups <- c(\"100\", \"65\", \"70\", \"75\", \"80\", \"85\")\n",
    "\n",
    "simulate_data <- data.frame(matrix(nrow = n_ct_obsevations, ncol = length(age_groups)))\n",
    "colnames(simulate_data) <- paste0(\"mort_3day_\", age_groups)\n",
    "\n",
    "# generate mortality for each age group\n",
    "for (i in 1:length(age_groups)) {\n",
    "  mu_log <- log((mortality_rate_means[i]^2) / sqrt(mortality_rate_sds[i]^2 + mortality_rate_means[i]^2))\n",
    "  sigma_log <- sqrt(log(1 + (mortality_rate_sds[i]^2) / mortality_rate_means[i]^2))\n",
    "  \n",
    "  simulated_rates <- rlnorm(n_ct_obsevations, meanlog = mu_log, sdlog = sigma_log)\n",
    "\n",
    "  simulate_data[, i] <- simulated_rates\n",
    "}\n",
    "#********\n",
    "#beneficiary number\n",
    "beneficiary_means <- c(49106, 13173, 11672, 9658, 7452, 7151, 34196)\n",
    "beneficiary_sds <- c(78983, 20910, 18802, 15767, 12183, 11818, 52812)\n",
    "beneficiary_vars <- c(\"numbenes3_100\", \"numbenes3_65\", \"numbenes3_70\", \"numbenes3_75\", \"numbenes3_80\", \"numbenes3_85\", \"hosp_denom\")\n",
    "\n",
    "for (i in 1:length(beneficiary_vars)) {\n",
    "  mu_log <- log((beneficiary_means[i]^2) / sqrt(beneficiary_sds[i]^2 + beneficiary_means[i]^2))\n",
    "  sigma_log <- sqrt(log(1 + (beneficiary_sds[i]^2) / beneficiary_means[i]^2))\n",
    "  simulate_data[[beneficiary_vars[i]]] <- rlnorm(n_ct_obsevations, meanlog = mu_log, sdlog = sigma_log)\n",
    "}\n",
    "\n",
    "#************\n",
    "# merge the data\n",
    "county_simulate_data <- data.frame(\n",
    "  county_fips = random_county_fips2,\n",
    "  Date = formatted_dates2,\n",
    "  totamt_any_3day = county_spending_3day, #Three-day inpatient spending, planned and ER\n",
    "  totamt_er_3day = county_er_spending_3day, # inpatient ER spending\n",
    "  admit_any_3day = county_admission_prob,\n",
    "  admit_er_3day = county_er_admission_prob,\n",
    "  all_er_3day = county_er_visit_prob\n",
    ")\n",
    "county_simulate_data <- cbind(county_simulate_data, simulate_data)\n",
    "head(county_simulate_data)"
   ]
  },
  {
   "cell_type": "code",
   "execution_count": 69,
   "id": "b8e3b39e-37e2-4e80-b234-8256a64a3cd5",
   "metadata": {},
   "outputs": [],
   "source": [
    "write.csv(survival_simulate_data, \"survival_simulate_data.csv\", row.names = FALSE)\n",
    "write.csv(person_simulate_data, \"person_simulate_data.csv\", row.names = FALSE)\n",
    "write.csv(county_simulate_data, \"county_simulate_data.csv\", row.names = FALSE)"
   ]
  }
 ],
 "metadata": {
  "kernelspec": {
   "display_name": "R",
   "language": "R",
   "name": "ir"
  },
  "language_info": {
   "codemirror_mode": "r",
   "file_extension": ".r",
   "mimetype": "text/x-r-source",
   "name": "R",
   "pygments_lexer": "r",
   "version": "4.4.1"
  }
 },
 "nbformat": 4,
 "nbformat_minor": 5
}
